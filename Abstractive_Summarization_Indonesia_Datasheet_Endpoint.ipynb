{
  "nbformat": 4,
  "nbformat_minor": 0,
  "metadata": {
    "colab": {
      "provenance": [],
      "authorship_tag": "ABX9TyNBpaK7c8K7QXard9LlLJ7j",
      "include_colab_link": true
    },
    "kernelspec": {
      "name": "python3",
      "display_name": "Python 3"
    },
    "language_info": {
      "name": "python"
    }
  },
  "cells": [
    {
      "cell_type": "markdown",
      "metadata": {
        "id": "view-in-github",
        "colab_type": "text"
      },
      "source": [
        "<a href=\"https://colab.research.google.com/github/bimadewantoro/indonesian-news-summarization/blob/main/Abstractive_Summarization_Indonesia_Datasheet_Endpoint.ipynb\" target=\"_parent\"><img src=\"https://colab.research.google.com/assets/colab-badge.svg\" alt=\"Open In Colab\"/></a>"
      ]
    },
    {
      "cell_type": "markdown",
      "source": [
        "Import Module"
      ],
      "metadata": {
        "id": "JPDr6mNKdtOQ"
      }
    },
    {
      "cell_type": "code",
      "source": [
        "import torch\n",
        "from transformers import T5Tokenizer, T5ForConditionalGeneration, T5Config\n",
        "from colabcode import ColabCode\n",
        "from flask import Flask, request, jsonify\n",
        "from flask_ngrok import run_with_ngrok"
      ],
      "metadata": {
        "id": "Su249ytLdqw_"
      },
      "execution_count": 2,
      "outputs": []
    },
    {
      "cell_type": "markdown",
      "source": [
        "Define Flask App"
      ],
      "metadata": {
        "id": "psgHvDf8dW_I"
      }
    },
    {
      "cell_type": "code",
      "source": [
        "app = Flask(__name__)\n",
        "run_with_ngrok(app)\n",
        "!ngrok authtoken 2KwoaOX9u62fDd4tJisKC6QdsPu_3Gfo2Lw4s3YjU5Dc8PbQj"
      ],
      "metadata": {
        "id": "ydLyWNXgdMXO"
      },
      "execution_count": null,
      "outputs": []
    },
    {
      "cell_type": "markdown",
      "source": [
        "Load model"
      ],
      "metadata": {
        "id": "3wEKURxdfzhK"
      }
    },
    {
      "cell_type": "code",
      "source": [
        "model = T5ForConditionalGeneration.from_pretrained(\"cahya/t5-base-indonesian-summarization-cased\")\n",
        "tokenizer = T5Tokenizer.from_pretrained(\"cahya/t5-base-indonesian-summarization-cased\")"
      ],
      "metadata": {
        "id": "L8AG6gmQf4KM"
      },
      "execution_count": null,
      "outputs": []
    },
    {
      "cell_type": "markdown",
      "source": [
        "Define function to preprocess text"
      ],
      "metadata": {
        "id": "SkfJ554ugEw6"
      }
    },
    {
      "cell_type": "code",
      "source": [
        "def preprocess_text(text):\n",
        "    text = \"summarize: \" + text\n",
        "    return text"
      ],
      "metadata": {
        "id": "SxUXpteagHjf"
      },
      "execution_count": 5,
      "outputs": []
    },
    {
      "cell_type": "markdown",
      "source": [
        "Define function to postprocess tokens"
      ],
      "metadata": {
        "id": "czOPh2vQgLRM"
      }
    },
    {
      "cell_type": "code",
      "source": [
        "def postprocess_text(text):\n",
        "    text = text.replace(\"</s>\", \"\")\n",
        "    text = text.replace(\"<pad>\", \"\")\n",
        "    text = text.strip()\n",
        "    return text"
      ],
      "metadata": {
        "id": "wbom9jPTgQS3"
      },
      "execution_count": 6,
      "outputs": []
    },
    {
      "cell_type": "markdown",
      "source": [
        "Define function to Summary"
      ],
      "metadata": {
        "id": "x_kPaigTgWM9"
      }
    },
    {
      "cell_type": "code",
      "source": [
        "def predict(text):\n",
        "    # Preprocess text\n",
        "    text = preprocess_text(text)\n",
        "    # Encode text\n",
        "    text = tokenizer.encode(text, return_tensors=\"pt\", max_length=512, truncation=True)\n",
        "    # Generate summary\n",
        "    summary_ids = model.generate(text, num_beams=4, no_repeat_ngram_size=2, min_length=30, max_length=100, early_stopping=True)\n",
        "    # Decode summary\n",
        "    output = [tokenizer.decode(g, skip_special_tokens=True, clean_up_tokenization_spaces=False) for g in summary_ids][0]\n",
        "    # Postprocess summary\n",
        "    output = postprocess_text(output)\n",
        "    return output"
      ],
      "metadata": {
        "id": "Leo1fIEagbmw"
      },
      "execution_count": 7,
      "outputs": []
    },
    {
      "cell_type": "markdown",
      "source": [
        "Define route"
      ],
      "metadata": {
        "id": "-SpKKwrtgmEx"
      }
    },
    {
      "cell_type": "code",
      "source": [
        "# Define route\n",
        "@app.route('/', methods=['GET'])\n",
        "def home():\n",
        "    return '''<h1>Summarize API</h1>\n",
        "    <p>A prototype API for summarizing text.</p>'''\n",
        "\n",
        "@app.route('/summary', methods=['POST'])\n",
        "def summary_route():\n",
        "    # Get text format\n",
        "    content_type = request.headers['Content-Type']\n",
        "\n",
        "    # Extract text based on format\n",
        "    if content_type == 'application/json':\n",
        "        text = request.json['text']\n",
        "    elif content_type == 'application/text':\n",
        "        text = request.data.decode('utf-8')\n",
        "    elif content_type == 'application/x-www-form-urlencoded':\n",
        "        text = request.form['text']\n",
        "    else:\n",
        "        return jsonify({'error': 'Invalid content type'}), 400\n",
        "\n",
        "    # Predict summary\n",
        "    summary = predict(text)\n",
        "    # Return summary\n",
        "    return jsonify({'summary': summary})"
      ],
      "metadata": {
        "id": "qkDRPMangpgp"
      },
      "execution_count": 8,
      "outputs": []
    },
    {
      "cell_type": "markdown",
      "source": [
        "Run App"
      ],
      "metadata": {
        "id": "9XImH9KLgy2F"
      }
    },
    {
      "cell_type": "code",
      "source": [
        "if __name__ == '__main__':\n",
        "    ColabCode(port=10000, code=False)\n",
        "    app.run()"
      ],
      "metadata": {
        "id": "0EvoKKQZg3li"
      },
      "execution_count": null,
      "outputs": []
    }
  ]
}